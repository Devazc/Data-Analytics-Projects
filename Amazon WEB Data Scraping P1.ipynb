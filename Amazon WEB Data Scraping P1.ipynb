{
 "cells": [
  {
   "attachments": {},
   "cell_type": "markdown",
   "metadata": {},
   "source": [
    "**Amazon WEB Data Scraping**"
   ]
  },
  {
   "cell_type": "code",
   "execution_count": 15,
   "metadata": {},
   "outputs": [],
   "source": [
    "#Importing Libraries\n",
    "from bs4 import BeautifulSoup\n",
    "import requests\n",
    "import re\n",
    "import time\n",
    "import datetime\n",
    "\n",
    "#Simple Mail Transfer Protocol\n",
    "import smtplib\n"
   ]
  },
  {
   "cell_type": "code",
   "execution_count": 16,
   "metadata": {},
   "outputs": [
    {
     "name": "stdout",
     "output_type": "stream",
     "text": [
      "Title - \n",
      "\n",
      "            LG 27Ml600 Full Hd 27 Inch (69 Cm) LCD 1920 X 1080 Pixels IPS Monitor 3 Side Borderless Design - Dual Hdmi & Vga Port - Reader Mode and Flicker Free Screen (Work & Education) - (White)\n",
      "           \n",
      "\n",
      "Price- \n",
      "                          14,498\n",
      "                          \n",
      "                           .\n",
      "                          \n",
      "\n"
     ]
    }
   ],
   "source": [
    "#Connect to Website and Pull the data\n",
    "\n",
    "URL = \"https://www.amazon.in/LG-Full-Monitor-Borderless-Design/dp/B08CF2VYB6/ref=sr_1_3?crid=L5ZU2VRR11H8&keywords=lg%2B27%2Binch%2Bmonitor&qid=1673977990&sprefix=%2Caps%2C332&sr=8-3&th=1\"\n",
    "headers = {\"User-Agent\": \"Mozilla/5.0 (Windows NT 10.0; Win64; x64) AppleWebKit/537.36 (KHTML, like Gecko) Chrome/109.0.0.0 Safari/537.36\"}\n",
    "page = requests.get(URL, headers = headers)\n",
    "#page = requests.get(\"https://www.amazon.in/LG-Full-Monitor-Borderless-Design/dp/B08CF2VYB6/ref=sr_1_3?crid=3RSSVJGHOV4MJ&keywords=lg+27+inch&qid=1674061963&sprefix=lg+27+iojch%2Caps%2C777&sr=8-3\")\n",
    "page = requests.get(URL, headers = headers)\n",
    "soup1 = BeautifulSoup(page.content, \"html.parser\")\n",
    "soup2 = BeautifulSoup(soup1.prettify(), \"html.parser\")\n",
    "\n",
    "\n",
    "title = soup2.find(id ='title').get_text()\n",
    "\n",
    "\n",
    "price = soup2.find(\"span\", class_=\"a-price-whole\" ).get_text()\n",
    "\n",
    "print(\"Title -\", title)\n",
    "print(\"Price-\", price)"
   ]
  },
  {
   "cell_type": "code",
   "execution_count": 17,
   "metadata": {},
   "outputs": [
    {
     "name": "stdout",
     "output_type": "stream",
     "text": [
      "Title: LG 27Ml600 Full Hd 27 Inch (69 Cm) LCD 1920 X 1080 Pixels IPS Monitor 3 Side Borderless Design - Dual Hdmi & Vga Port - Reader Mode and Flicker Free Screen (Work & Education) - (White)\n",
      "14,498\n",
      "                          \n",
      "                           .\n"
     ]
    }
   ],
   "source": [
    "#Clean Up The Data\n",
    "\n",
    "title = title.strip()\n",
    "price = price.strip()\n",
    "\n",
    "print(\"Title:\", title)\n",
    "print(price)"
   ]
  },
  {
   "cell_type": "code",
   "execution_count": 18,
   "metadata": {},
   "outputs": [
    {
     "name": "stdout",
     "output_type": "stream",
     "text": [
      "2023-01-19\n"
     ]
    }
   ],
   "source": [
    "#Create a TimeStamp for your output to track when data was collected\n",
    "\n",
    "import datetime\n",
    "\n",
    "today = datetime.date.today()\n",
    "print(today)"
   ]
  },
  {
   "cell_type": "code",
   "execution_count": 19,
   "metadata": {},
   "outputs": [],
   "source": [
    "#Create CSV and write headers, data into the file\n",
    "\n",
    "import csv\n",
    "\n",
    "header = ['Product', 'Price', 'Date']\n",
    "data = [title, price, today]\n",
    "\n",
    "with open(\"AmazonWebScraperDataset.csv\", 'w', newline='', encoding='UTF8') as f:\n",
    "    writer = csv.writer(f)\n",
    "    writer.writerow(header)\n",
    "    writer.writerow(data)"
   ]
  },
  {
   "cell_type": "code",
   "execution_count": 20,
   "metadata": {},
   "outputs": [
    {
     "name": "stdout",
     "output_type": "stream",
     "text": [
      "                                             Product  \\\n",
      "0  LG 27Ml600 Full Hd 27 Inch (69 Cm) LCD 1920 X ...   \n",
      "\n",
      "                                               Price        Date  \n",
      "0  14,498\\n                          \\n          ...  2023-01-19  \n"
     ]
    }
   ],
   "source": [
    "import pandas as pd\n",
    "\n",
    "df = pd.read_csv(r'D:\\Code Here\\Python Projects\\Python Project-3_DataScrapping\\AmazonWebScraperDataset.csv')\n",
    "print(df)"
   ]
  },
  {
   "cell_type": "code",
   "execution_count": 21,
   "metadata": {},
   "outputs": [],
   "source": [
    "#Now we are appending data to the CSV\n",
    "\n",
    "with open('AmazonWebScraperDataset.csv','a+', newline = '', encoding='UTF8') as f:\n",
    "    writer = csv.writer(f)\n",
    "    writer.writerow(data)"
   ]
  },
  {
   "cell_type": "code",
   "execution_count": 22,
   "metadata": {},
   "outputs": [],
   "source": [
    "#Combine al of the above code into one function \n",
    "\n",
    "def CHECK_PRICE():\n",
    "    URL = 'https://www.amazon.in/LG-Full-Monitor-Borderless-Design/dp/B08CF2VYB6/ref=sr_1_3?crid=L5ZU2VRR11H8&keywords=lg%2B27%2Binch%2Bmonitor&qid=1673977990&sprefix=%2Caps%2C332&sr=8-3&th=1'\n",
    "    headers = {\"User-Agent\": \"Mozilla/5.0 (Windows NT 10.0; Win64; x64) AppleWebKit/537.36 (KHTML, like Gecko) Chrome/109.0.0.0 Safari/537.36\"}\n",
    "    page = requests.get(URL, headers=headers)\n",
    "    soup1 = BeautifulSoup(page.content, \"html.parser\")\n",
    "    soup2 = BeautifulSoup(soup1.prettify(), \"html.parser\")\n",
    "    \n",
    "    title = soup2.find(id ='title').get_text()\n",
    "    price = soup2.find(\"span\", class_=\"a-price-whole\" ).get_text()\n",
    "\n",
    "    price = price.strip()\n",
    "    title = title.strip()\n",
    "\n",
    "    import datetime\n",
    "\n",
    "    today = datetime.date.today()\n",
    "\n",
    "    import csv\n",
    "\n",
    "    header = ['Product', 'Price', 'Date']\n",
    "    data = [title, price, today]\n",
    "\n",
    "    with open('AmazonWebScraperDataset.csv', 'a+', newline='', encoding='UTF8') as f:\n",
    "        writer = csv.writer(f)\n",
    "        writer.writerow(data)"
   ]
  },
  {
   "cell_type": "code",
   "execution_count": 23,
   "metadata": {},
   "outputs": [],
   "source": [
    "# Runs CHECK_PRICE after a set time and inputs data into your CSV\n",
    "\n",
    "while(True):\n",
    "    CHECK_PRICE()\n",
    "    time.sleep(86400)"
   ]
  },
  {
   "cell_type": "code",
   "execution_count": null,
   "metadata": {},
   "outputs": [
    {
     "name": "stdout",
     "output_type": "stream",
     "text": [
      "                                             Product  \\\n",
      "0  LG 27Ml600 Full Hd 27 Inch (69 Cm) LCD 1920 X ...   \n",
      "1  LG 27Ml600 Full Hd 27 Inch (69 Cm) LCD 1920 X ...   \n",
      "2  LG 27Ml600 Full Hd 27 Inch (69 Cm) LCD 1920 X ...   \n",
      "\n",
      "                                               Price        Date  \n",
      "0  14,498\\n                         \\n           ...  2023-01-19  \n",
      "1  14,498\\n                         \\n           ...  2023-01-19  \n",
      "2  14,498\\n                          \\n          ...  2023-01-19  \n"
     ]
    }
   ],
   "source": [
    "import pandas as pd\n",
    "\n",
    "df = pd.read_csv(r'D:\\Code Here\\Python Projects\\Python Project-3_DataScrapping\\AmazonWebScraperDataset.csv')\n",
    "print(df)"
   ]
  },
  {
   "cell_type": "code",
   "execution_count": 1,
   "metadata": {},
   "outputs": [],
   "source": [
    "# Sending an email when price hits below a certain level\n",
    "\n",
    "def SEND_MAIL():\n",
    "    server = smtplib.SMTP_SSL('smtp.gmai.com', 465)\n",
    "    server.ehlo()\n",
    "    #server.starttls()\n",
    "    server.ehlo()\n",
    "    server.login(\"Your E-Mail\",\"Your Password\")\n",
    "\n",
    "    subject = \"Price Dropped!, Now’s Your Chance to Save.\"\n",
    "    body = \"Dev,\\n We’re excited to let you know that the price of your desired Item has dropped! This is your chance to save big and get the product you’ve been wanting at an unbeatable price. \"\n",
    "\n",
    "    msg = f\"subject: {subject}\\n\\n{body}\"\n",
    "\n",
    "    server.sendmail(\n",
    "        'Deva.Chandargiri11@gmail.com',\n",
    "        msg\n",
    "    )\n"
   ]
  }
 ],
 "metadata": {
  "kernelspec": {
   "display_name": "Python 3",
   "language": "python",
   "name": "python3"
  },
  "language_info": {
   "codemirror_mode": {
    "name": "ipython",
    "version": 3
   },
   "file_extension": ".py",
   "mimetype": "text/x-python",
   "name": "python",
   "nbconvert_exporter": "python",
   "pygments_lexer": "ipython3",
   "version": "3.10.6"
  },
  "orig_nbformat": 4,
  "vscode": {
   "interpreter": {
    "hash": "f263b9edec441361bf4e854813fdc9acb37a94c837e0bb7b1f3c4b82a94101de"
   }
  }
 },
 "nbformat": 4,
 "nbformat_minor": 2
}
